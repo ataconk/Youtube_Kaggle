{
 "cells": [
  {
   "cell_type": "code",
   "execution_count": 2,
   "metadata": {},
   "outputs": [],
   "source": [
    "import pandas as pd\n",
    "import json   \n",
    "import matplotlib.pyplot as plt\n",
    "import csv\n",
    "import plotly.plotly as pelit\n"
   ]
  },
  {
   "cell_type": "code",
   "execution_count": 3,
   "metadata": {},
   "outputs": [],
   "source": [
    "DEvideos = pd.read_csv('data\\\\DEvideos.csv')\n",
    "USvideos = pd.read_csv('data\\\\USvideoz.csv')\n",
    "FRvideos = pd.read_csv('data\\\\FRvideos.csv')\n",
    "GBvideos = pd.read_csv('data\\\\GBvideos.csv')\n",
    "CAvideos = pd.read_csv('data\\\\CAvideos.csv')\n"
   ]
  },
  {
   "cell_type": "code",
   "execution_count": 5,
   "metadata": {},
   "outputs": [],
   "source": [
    "DE_data = []\n",
    "US_data = []\n",
    "FR_data = []\n",
    "GB_data = []\n",
    "CA_data = []\n",
    "\n",
    "with open('data\\\\DE_category_id.json') as json_file_DE:\n",
    "     DE_data = json.load(json_file_DE)\n",
    "with open('data\\\\US_category_id.json') as json_file_US:\n",
    "     US_data = json.load(json_file_US)\n",
    "with open('data\\\\FR_category_id.json') as json_file_FR:\n",
    "     FR_data = json.load(json_file_FR)\n",
    "with open('data\\\\GB_category_id.json') as json_file_GB:\n",
    "     GB_data = json.load(json_file_GB)\n",
    "with open('data\\\\CA_category_id.json') as json_file_CA:\n",
    "     CA_data = json.load(json_file_CA)\n"
   ]
  },
  {
   "cell_type": "code",
   "execution_count": 4,
   "metadata": {},
   "outputs": [],
   "source": [
    "# csvList = ['DEvideos', 'USvideos', 'FRvideos', 'GBvideos','CAvideos']\n",
    "# jsonList = ['DE_category_id.json','US_category_id.json','FR_category_id.json','GB_category_id.json','CA_category_id.json']\n",
    "# countryList = ['DE','US','FR','GB','CA']"
   ]
  },
  {
   "cell_type": "code",
   "execution_count": 6,
   "metadata": {},
   "outputs": [
    {
     "name": "stdout",
     "output_type": "stream",
     "text": [
      "ID:1\nType:Film & Animation\n-----------*\nID:2\nType:Autos & Vehicles\n-----------*\nID:10\nType:Music\n-----------*\nID:15\nType:Pets & Animals\n-----------*\nID:17\nType:Sports\n-----------*\nID:18\nType:Short Movies\n-----------*\nID:19\nType:Travel & Events\n-----------*\nID:20\nType:Gaming\n-----------*\nID:21\nType:Videoblogging\n-----------*\nID:22\nType:People & Blogs\n-----------*\nID:23\nType:Comedy\n-----------*\nID:24\nType:Entertainment\n-----------*\nID:25\nType:News & Politics\n-----------*\nID:26\nType:Howto & Style\n-----------*\nID:27\nType:Education\n-----------*\nID:28\nType:Science & Technology\n-----------*\nID:30\nType:Movies\n-----------*\nID:31\nType:Anime/Animation\n-----------*\nID:32\nType:Action/Adventure\n-----------*\nID:33\nType:Classics\n-----------*\nID:34\nType:Comedy\n-----------*\nID:35\nType:Documentary\n-----------*\nID:36\nType:Drama\n-----------*\nID:37\nType:Family\n-----------*\nID:38\nType:Foreign\n-----------*\nID:39\nType:Horror\n-----------*\nID:40\nType:Sci-Fi/Fantasy\n-----------*\nID:41\nType:Thriller\n-----------*\nID:42\nType:Shorts\n-----------*\nID:43\nType:Shows\n-----------*\nID:44\nType:Trailers\n-----------*\n"
     ]
    },
    {
     "ename": "IndexError",
     "evalue": "list index out of range",
     "traceback": [
      "\u001b[1;31m---------------------------------------------------------------------------\u001b[0m",
      "\u001b[1;31mIndexError\u001b[0m                                Traceback (most recent call last)",
      "\u001b[1;32m<ipython-input-6-51f5fd050cc5>\u001b[0m in \u001b[0;36m<module>\u001b[1;34m()\u001b[0m\n\u001b[0;32m      4\u001b[0m \u001b[1;32mfor\u001b[0m \u001b[0mx\u001b[0m \u001b[1;32min\u001b[0m \u001b[0mrange\u001b[0m\u001b[1;33m(\u001b[0m\u001b[1;36m45\u001b[0m\u001b[1;33m)\u001b[0m\u001b[1;33m:\u001b[0m\u001b[1;33m\u001b[0m\u001b[0m\n\u001b[0;32m      5\u001b[0m \u001b[1;33m\u001b[0m\u001b[0m\n\u001b[1;32m----> 6\u001b[1;33m     \u001b[1;32mfor\u001b[0m \u001b[0mitem\u001b[0m \u001b[1;32min\u001b[0m \u001b[0mDE_data\u001b[0m\u001b[1;33m[\u001b[0m\u001b[1;34m'items'\u001b[0m\u001b[1;33m]\u001b[0m\u001b[1;33m[\u001b[0m\u001b[0mx\u001b[0m\u001b[1;33m]\u001b[0m\u001b[1;33m[\u001b[0m\u001b[1;34m'id'\u001b[0m\u001b[1;33m]\u001b[0m\u001b[1;33m.\u001b[0m\u001b[0msplitlines\u001b[0m\u001b[1;33m(\u001b[0m\u001b[1;33m)\u001b[0m\u001b[1;33m:\u001b[0m\u001b[1;33m\u001b[0m\u001b[0m\n\u001b[0m\u001b[0;32m      7\u001b[0m         \u001b[0mprint\u001b[0m\u001b[1;33m(\u001b[0m\u001b[1;34m'ID:'\u001b[0m \u001b[1;33m+\u001b[0m \u001b[0mitem\u001b[0m\u001b[1;33m)\u001b[0m\u001b[1;33m\u001b[0m\u001b[0m\n\u001b[0;32m      8\u001b[0m         \u001b[0mlistID\u001b[0m\u001b[1;33m.\u001b[0m\u001b[0mappend\u001b[0m\u001b[1;33m(\u001b[0m\u001b[0mitem\u001b[0m\u001b[1;33m)\u001b[0m\u001b[1;33m\u001b[0m\u001b[0m\n",
      "\u001b[1;31mIndexError\u001b[0m: list index out of range"
     ],
     "output_type": "error"
    }
   ],
   "source": [
    "mydict = {}\n",
    "listID = []\n",
    "listType = []\n",
    "for x in range(45):\n",
    "\n",
    "    for item in DE_data['items'][x]['id'].splitlines():\n",
    "        print('ID:' + item)\n",
    "        listID.append(item)\n",
    "    for item in DE_data['items'][x]['snippet']['title'].splitlines():\n",
    "        print('Type:' + item)\n",
    "        listType.append(item)\n",
    "    \n",
    "    print('-----------*')\n",
    "    \n"
   ]
  },
  {
   "cell_type": "code",
   "execution_count": 7,
   "metadata": {},
   "outputs": [],
   "source": [
    "mydict = dict(zip(listID,listType))\n",
    "\n"
   ]
  },
  {
   "cell_type": "code",
   "execution_count": 8,
   "metadata": {},
   "outputs": [],
   "source": [
    "newColDE = []\n",
    "newColUS = []\n",
    "newColFR = []\n",
    "newColGB = []\n",
    "newColCA = []\n",
    "\n",
    "\n",
    "for x in range(len(DEvideos['category_id'])):\n",
    "\n",
    "    for key in mydict:\n",
    "        if DEvideos['category_id'][x] == int(key):\n",
    "\n",
    "            newColDE.append(mydict[key])\n",
    "            \n",
    "for x in range(len(USvideos['category_id'])):\n",
    "\n",
    "    for key in mydict:\n",
    "        if USvideos['category_id'][x] == int(key):\n",
    "\n",
    "            newColUS.append(mydict[key])\n",
    "\n",
    "for x in range(len(FRvideos['category_id'])):\n",
    "\n",
    "    for key in mydict:\n",
    "        if FRvideos['category_id'][x] == int(key):\n",
    "\n",
    "            newColFR.append(mydict[key])\n",
    "            \n",
    "for x in range(len(GBvideos['category_id'])):\n",
    "\n",
    "    for key in mydict:\n",
    "        if GBvideos['category_id'][x] == int(key):\n",
    "\n",
    "            newColGB.append(mydict[key])\n",
    "   \n",
    "for x in range(len(CAvideos['category_id'])):\n",
    "\n",
    "    for key in mydict:\n",
    "        if CAvideos['category_id'][x] == int(key):\n",
    "\n",
    "            newColCA.append(mydict[key])"
   ]
  },
  {
   "cell_type": "code",
   "execution_count": 9,
   "metadata": {},
   "outputs": [],
   "source": [
    "\n",
    "    \n",
    "#     \n",
    "GBvideos['video_types'] = pd.Series(newColGB)\n",
    "GBvideos.to_csv('GBvideoss.csv')\n",
    "\n",
    "USvideos['video_types'] = pd.Series(newColUS)\n",
    "USvideos.to_csv('USvideoss.csv')\n",
    "\n",
    "FRvideos['video_types'] = pd.Series(newColFR)\n",
    "FRvideos.to_csv('FRvideoss.csv')\n",
    "\n",
    "DEvideos['video_types'] = pd.Series(newColDE)\n",
    "DEvideos.to_csv('DEvideoss.csv')\n",
    "\n",
    "CAvideos['video_types'] = pd.Series(newColCA)\n",
    "CAvideos.to_csv('CAvideoss.csv')\n",
    "\n",
    "\n",
    "\n",
    "# CAvideos['video_types'] = newColCA\n",
    "# CAvideos.to_csv('CAvideos.csv')\n",
    "\n",
    "\n",
    "\n",
    "\n"
   ]
  },
  {
   "cell_type": "code",
   "execution_count": 11,
   "metadata": {},
   "outputs": [
    {
     "name": "stderr",
     "output_type": "stream",
     "text": [
      "C:\\Users\\Praktikant\\AppData\\Local\\conda\\conda\\envs\\env1\\lib\\site-packages\\IPython\\core\\interactiveshell.py:2785: DtypeWarning:\n\nColumns (0,13,14,15) have mixed types. Specify dtype option on import or set low_memory=False.\n\n"
     ]
    }
   ],
   "source": [
    "DEvideoss = pd.read_csv('data\\\\DEvideoss.csv')\n",
    "FRvideoss = pd.read_csv('data\\\\FRvideoss.csv')\n",
    "GBvideoss = pd.read_csv('data\\\\GBvideoss.csv')\n",
    "CAvideoss = pd.read_csv('data\\\\CAvideoss.csv')\n",
    "USvideoss = pd.read_csv('data\\\\oldu.csv')"
   ]
  },
  {
   "cell_type": "code",
   "execution_count": 12,
   "metadata": {},
   "outputs": [],
   "source": [
    "listZero = []\n",
    "for x in listType:\n",
    "    listZero.append(0)\n",
    "likesUS = {}\n",
    "likesCA = {}\n",
    "likesFR = {}\n",
    "likesGB = {}\n",
    "likesDE = {}\n",
    "dislikesUS = {}\n",
    "dislikesCA = {}\n",
    "dislikesFR = {}\n",
    "dislikesGB = {}\n",
    "dislikesDE = {}\n",
    "viewsUS = {}\n",
    "viewsCA = {}\n",
    "viewsFR = {}\n",
    "viewsGB = {}\n",
    "viewsDE = {}\n",
    "\n",
    "likesUS= dict(zip(listType,listZero))\n",
    "likesCA = dict(zip(listType,listZero))\n",
    "likesFR = dict(zip(listType,listZero))\n",
    "likesGB = dict(zip(listType,listZero))\n",
    "likesDE = dict(zip(listType,listZero))\n",
    "dislikesUS = dict(zip(listType,listZero))\n",
    "dislikesCA = dict(zip(listType,listZero))\n",
    "dislikesFR = dict(zip(listType,listZero))\n",
    "dislikesGB = dict(zip(listType,listZero))\n",
    "dislikesDE = dict(zip(listType,listZero))\n",
    "viewsUS = dict(zip(listType,listZero))\n",
    "viewsCA = dict(zip(listType,listZero))\n",
    "viewsFR = dict(zip(listType,listZero))\n",
    "viewsGB = dict(zip(listType,listZero))\n",
    "viewsDE = dict(zip(listType,listZero))\n",
    "\n",
    "\n",
    "\n",
    "\n"
   ]
  },
  {
   "cell_type": "code",
   "execution_count": 13,
   "metadata": {},
   "outputs": [],
   "source": [
    "for x in range(len(USvideoss['video_types'])):\n",
    "    for y in likesUS:\n",
    "        if (USvideoss['video_types'][x] == y  ):\n",
    "            likesUS[USvideoss['video_types'][x]] = USvideoss['likes'][x]+likesUS[y]\n",
    "    \n",
    "\n",
    "for x in range(len(USvideoss['video_types'])):\n",
    "    for y in dislikesUS:\n",
    "        if (USvideoss['video_types'][x] == y  ):\n",
    "            dislikesUS[USvideoss['video_types'][x]] = USvideoss['dislikes'][x]+dislikesUS[y]\n",
    "\n",
    "for x in range(len(USvideoss['video_types'])):\n",
    "    for y in viewsUS:\n",
    "        if (USvideoss['video_types'][x] == y  ):\n",
    "            viewsUS[USvideoss['video_types'][x]] = USvideoss['views'][x]+viewsUS[y]"
   ]
  },
  {
   "cell_type": "code",
   "execution_count": 14,
   "metadata": {},
   "outputs": [],
   "source": [
    "for x in range(len(CAvideoss['video_types'])):\n",
    "    for y in likesCA:\n",
    "        if (CAvideoss['video_types'][x] == y  ):\n",
    "            likesCA[CAvideoss['video_types'][x]] = CAvideoss['likes'][x]+likesCA[y]\n",
    "    \n",
    "\n",
    "for x in range(len(CAvideoss['video_types'])):\n",
    "    for y in dislikesCA:\n",
    "        if (CAvideoss['video_types'][x] == y  ):\n",
    "            dislikesCA[CAvideoss['video_types'][x]] = CAvideoss['dislikes'][x]+dislikesCA[y]\n",
    "\n",
    "for x in range(len(CAvideoss['video_types'])):\n",
    "    for y in viewsCA:\n",
    "        if (CAvideoss['video_types'][x] == y  ):\n",
    "            viewsCA[CAvideoss['video_types'][x]] = CAvideoss['views'][x]+viewsCA[y]"
   ]
  },
  {
   "cell_type": "code",
   "execution_count": 16,
   "metadata": {},
   "outputs": [],
   "source": [
    "for x in range(len(FRvideoss['video_types'])):\n",
    "    for y in likesFR:\n",
    "        if (FRvideoss['video_types'][x] == y  ):\n",
    "            likesFR[FRvideoss['video_types'][x]] = FRvideoss['likes'][x]+likesFR[y]\n",
    "    \n",
    "\n",
    "for x in range(len(FRvideoss['video_types'])):\n",
    "    for y in dislikesFR:\n",
    "        if (FRvideoss['video_types'][x] == y  ):\n",
    "            dislikesFR[FRvideoss['video_types'][x]] = FRvideoss['dislikes'][x]+dislikesFR[y]\n",
    "\n",
    "for x in range(len(FRvideoss['video_types'])):\n",
    "    for y in viewsFR:\n",
    "        if (FRvideoss['video_types'][x] == y  ):\n",
    "            viewsFR[FRvideoss['video_types'][x]] = FRvideoss['views'][x]+viewsFR[y]"
   ]
  },
  {
   "cell_type": "code",
   "execution_count": 17,
   "metadata": {},
   "outputs": [],
   "source": [
    "for x in range(len(GBvideoss['video_types'])):\n",
    "    for y in likesGB:\n",
    "        if (GBvideoss['video_types'][x] == y  ):\n",
    "            likesGB[GBvideoss['video_types'][x]] = GBvideoss['likes'][x]+likesGB[y]\n",
    "    \n",
    "\n",
    "for x in range(len(GBvideoss['video_types'])):\n",
    "    for y in dislikesGB:\n",
    "        if (GBvideoss['video_types'][x] == y  ):\n",
    "            dislikesGB[GBvideoss['video_types'][x]] = GBvideoss['dislikes'][x]+dislikesGB[y]\n",
    "\n",
    "for x in range(len(GBvideoss['video_types'])):\n",
    "    for y in viewsGB:\n",
    "        if (GBvideoss['video_types'][x] == y  ):\n",
    "            viewsGB[GBvideoss['video_types'][x]] = GBvideoss['views'][x]+viewsGB[y]"
   ]
  },
  {
   "cell_type": "code",
   "execution_count": 18,
   "metadata": {},
   "outputs": [],
   "source": [
    "for x in range(len(DEvideoss['video_types'])):\n",
    "    for y in likesDE:\n",
    "        if (DEvideoss['video_types'][x] == y  ):\n",
    "            likesDE[DEvideoss['video_types'][x]] = DEvideoss['likes'][x]+likesDE[y]\n",
    "    \n",
    "\n",
    "for x in range(len(DEvideoss['video_types'])):\n",
    "    for y in dislikesDE:\n",
    "        if (DEvideoss['video_types'][x] == y  ):\n",
    "            dislikesDE[DEvideoss['video_types'][x]] = DEvideoss['dislikes'][x]+dislikesDE[y]\n",
    "\n",
    "for x in range(len(DEvideoss['video_types'])):\n",
    "    for y in viewsDE:\n",
    "        if (DEvideoss['video_types'][x] == y  ):\n",
    "            viewsDE[DEvideoss['video_types'][x]] = DEvideoss['views'][x]+viewsDE[y]"
   ]
  },
  {
   "cell_type": "code",
   "execution_count": 19,
   "metadata": {},
   "outputs": [],
   "source": [
    "dataUS = []\n",
    "for x in likesUS:\n",
    "    dataUS.append([x,int(likesUS[x]), int(dislikesUS[x]), int(viewsUS[x])])"
   ]
  },
  {
   "cell_type": "code",
   "execution_count": 20,
   "metadata": {},
   "outputs": [],
   "source": [
    "dataCA = []\n",
    "for x in likesCA:   \n",
    "    dataCA.append([x,int(likesCA[x]), int(dislikesCA[x]), int(viewsCA[x])])"
   ]
  },
  {
   "cell_type": "code",
   "execution_count": 21,
   "metadata": {},
   "outputs": [],
   "source": [
    "dataFR = []\n",
    "for x in likesFR:\n",
    "    dataFR.append([x,int(likesFR[x]), int(dislikesFR[x]), int(viewsFR[x])])"
   ]
  },
  {
   "cell_type": "code",
   "execution_count": 22,
   "metadata": {},
   "outputs": [],
   "source": [
    "dataGB = []\n",
    "for x in likesGB:\n",
    "    dataGB.append([x,int(likesGB[x]), int(dislikesGB[x]), int(viewsGB[x])])"
   ]
  },
  {
   "cell_type": "code",
   "execution_count": 23,
   "metadata": {},
   "outputs": [],
   "source": [
    "dataDE = []\n",
    "for x in likesDE:\n",
    "    dataDE.append([x,int(likesDE[x]), int(dislikesDE[x]), int(viewsDE[x])])"
   ]
  },
  {
   "cell_type": "code",
   "execution_count": 24,
   "metadata": {},
   "outputs": [],
   "source": [
    "dfUS = pd.DataFrame(dataUS, columns=['Type','Likes','Dislikes','Views'])\n",
    "dfUS = dfUS[dfUS.Likes != 0]"
   ]
  },
  {
   "cell_type": "code",
   "execution_count": 26,
   "metadata": {},
   "outputs": [],
   "source": [
    "dfCA = pd.DataFrame(dataCA, columns=['Type','Likes','Dislikes','Views'])\n",
    "dfCA = dfCA[dfCA.Likes != 0]"
   ]
  },
  {
   "cell_type": "code",
   "execution_count": 28,
   "metadata": {},
   "outputs": [],
   "source": [
    "dfFR = pd.DataFrame(dataFR, columns=['Type','Likes','Dislikes','Views'])\n",
    "dfFR = dfFR[dfFR.Likes != 0]"
   ]
  },
  {
   "cell_type": "code",
   "execution_count": 30,
   "metadata": {},
   "outputs": [],
   "source": [
    "dfGB = pd.DataFrame(dataGB, columns=['Type','Likes','Dislikes','Views'])\n",
    "dfGB = dfGB[dfGB.Likes != 0]"
   ]
  },
  {
   "cell_type": "code",
   "execution_count": 32,
   "metadata": {},
   "outputs": [],
   "source": [
    "dfDE = pd.DataFrame(dataDE, columns=['Type','Likes','Dislikes','Views'])\n",
    "dfDE = dfDE[dfDE.Likes != 0]"
   ]
  },
  {
   "cell_type": "code",
   "execution_count": 39,
   "metadata": {},
   "outputs": [
    {
     "name": "stdout",
     "output_type": "stream",
     "text": [
      "Film & Animation\nAutos & Vehicles\nMusic\nPets & Animals\nSports\nShort Movies\nTravel & Events\nGaming\nVideoblogging\nPeople & Blogs\nComedy\nEntertainment\nNews & Politics\nHowto & Style\nEducation\nScience & Technology\nMovies\nAnime/Animation\nAction/Adventure\nClassics\nDocumentary\nDrama\nFamily\nForeign\nHorror\nSci-Fi/Fantasy\nThriller\nShorts\nShows\nTrailers\n"
     ]
    }
   ],
   "source": [
    "for key in likesUS:\n",
    "    print(key)"
   ]
  },
  {
   "cell_type": "code",
   "execution_count": 58,
   "metadata": {},
   "outputs": [
    {
     "name": "stdout",
     "output_type": "stream",
     "text": [
      "Empty DataFrame\nColumns: [(code,), (country,), (Film & Animation,), (Autos & Vehicles,), (Music,), (Pets & Animals,), (Sports,), (Short Movies,), (Travel & Events,), (Gaming,), (Videoblogging,), (People & Blogs,), (Comedy,), (Entertainment,), (News & Politics,), (Howto & Style,), (Education,), (Science & Technology,), (Movies,), (Anime/Animation,), (Action/Adventure,), (Classics,), (Documentary,), (Drama,), (Family,), (Foreign,), (Horror,), (Sci-Fi/Fantasy,), (Thriller,), (Shorts,), (Shows,), (Trailers,)]\nIndex: []\n\n[0 rows x 32 columns]\n"
     ]
    }
   ],
   "source": [
    ""
   ]
  },
  {
   "cell_type": "code",
   "execution_count": 33,
   "metadata": {},
   "outputs": [],
   "source": [
    "usaList=[]\n",
    "usaList.append('USA')\n",
    "usaList.append('United States')\n",
    "for key in likesUS:\n",
    "    usaList.append(likesUS[key])\n",
    "    \n",
    "gbList=[]\n",
    "gbList.append('GBR')\n",
    "gbList.append('United Kingdom')\n",
    "for key in likesGB:\n",
    "    gbList.append(likesGB[key])\n",
    "    \n",
    "frList=[]\n",
    "frList.append('FRA')\n",
    "frList.append('France')\n",
    "for key in likesFR:\n",
    "    frList.append(likesFR[key])\n",
    "\n",
    "caList=[]\n",
    "caList.append('CAN')\n",
    "caList.append('Canada')\n",
    "for key in likesCA:\n",
    "    caList.append(likesCA[key])    \n",
    "\n",
    "deList=[]\n",
    "deList.append('DEU')\n",
    "deList.append('Germany')\n",
    "for key in likesDE:\n",
    "    deList.append(likesDE[key])    "
   ]
  },
  {
   "cell_type": "code",
   "execution_count": 34,
   "metadata": {},
   "outputs": [
    {
     "name": "stdout",
     "output_type": "stream",
     "text": [
      "Empty DataFrame\nColumns: [(code,), (country,), (Film & Animation,), (Autos & Vehicles,), (Music,), (Pets & Animals,), (Sports,), (Short Movies,), (Travel & Events,), (Gaming,), (Videoblogging,), (People & Blogs,), (Comedy,), (Entertainment,), (News & Politics,), (Howto & Style,), (Education,), (Science & Technology,), (Movies,), (Anime/Animation,), (Action/Adventure,), (Classics,), (Documentary,), (Drama,), (Family,), (Foreign,), (Horror,), (Sci-Fi/Fantasy,), (Thriller,), (Shorts,), (Shows,), (Trailers,)]\nIndex: []\n\n[0 rows x 32 columns]\n"
     ]
    }
   ],
   "source": [
    "newList = []\n",
    "newList.append('code')\n",
    "newList.append('country')\n",
    "for key in likesUS:\n",
    "    newList.append(key)\n",
    "dfNewDf = pd.DataFrame(columns=[newList])\n",
    "print (dfNewDf)\n",
    "\n",
    "\n",
    "\n",
    "\n",
    "# dfNewDf = pd.DataFrame([frList])\n",
    "# dfNewDf = pd.DataFrame([caList])\n",
    "# dfNewDf = pd.DataFrame([deList])"
   ]
  },
  {
   "cell_type": "code",
   "execution_count": 35,
   "metadata": {},
   "outputs": [],
   "source": [
    "mpl =[usaList,frList,caList,deList,gbList]\n",
    "dfNewDf = pd.DataFrame(data=mpl, columns=newList)"
   ]
  },
  {
   "cell_type": "code",
   "execution_count": 36,
   "metadata": {},
   "outputs": [
    {
     "name": "stdout",
     "output_type": "stream",
     "text": [
      "  code         country  Film & Animation  Autos & Vehicles         Music  \\\n0  USA   United States       165997476.0         4245656.0  1.416838e+09   \n1  FRA          France        75606700.0        22207358.0  1.519090e+08   \n2  CAN          Canada        87009659.0        11112306.0  1.525163e+08   \n3  DEU         Germany        52951463.0        14305886.0  5.095501e+07   \n4  GBR  United Kingdom       365802590.0         9227997.0  2.206453e+09   \n\n   Pets & Animals       Sports  Short Movies  Travel & Events       Gaming  \\\n0      19370702.0   95203801.0             0        4836246.0   68363715.0   \n1       5866874.0  146353708.0             0        3299658.0   43405730.0   \n2      16964102.0  101079148.0             0       13629663.0   51534433.0   \n3       5462963.0   52115938.0             0        2642780.0   38114877.0   \n4      63888854.0  168561878.0             0        5317661.0  206102056.0   \n\n     ...     Documentary  Drama  Family  Foreign  Horror  Sci-Fi/Fantasy  \\\n0    ...               0      0       0        0       0               0   \n1    ...               0      0       0        0       0               0   \n2    ...               0      0       0        0       0               0   \n3    ...               0      0       0        0       0               0   \n4    ...               0      0       0        0       0               0   \n\n   Thriller  Shorts      Shows  Trailers  \n0         0       0  1082639.0       0.0  \n1         0       0  2491734.0     194.0  \n2         0       0  4666200.0       0.0  \n3         0       0  2000532.0     614.0  \n4         0       0  2119852.0       0.0  \n\n[5 rows x 32 columns]\n"
     ]
    }
   ],
   "source": [
    "print(dfNewDf)\n"
   ]
  },
  {
   "cell_type": "code",
   "execution_count": 37,
   "metadata": {},
   "outputs": [
    {
     "name": "stdout",
     "output_type": "stream",
     "text": [
      "  code         country Film & Animation Autos & Vehicles        Music  \\\n0  USA   United States      1.65997e+08      4.24566e+06  1.41684e+09   \n1  FRA          France      7.56067e+07      2.22074e+07  1.51909e+08   \n2  CAN          Canada      8.70097e+07      1.11123e+07  1.52516e+08   \n3  DEU         Germany      5.29515e+07      1.43059e+07   5.0955e+07   \n4  GBR  United Kingdom      3.65803e+08        9.228e+06  2.20645e+09   \n\n  Pets & Animals       Sports Travel & Events       Gaming People & Blogs  \\\n0    1.93707e+07  9.52038e+07     4.83625e+06  6.83637e+07    1.86616e+08   \n1    5.86687e+06  1.46354e+08     3.29966e+06  4.34057e+07    2.00684e+08   \n2    1.69641e+07  1.01079e+08     1.36297e+07  5.15344e+07    1.56766e+08   \n3    5.46296e+06  5.21159e+07     2.64278e+06  3.81149e+07    1.26113e+08   \n4    6.38889e+07  1.68562e+08     5.31766e+06  2.06102e+08    3.02969e+08   \n\n        Comedy Entertainment News & Politics Howto & Style    Education  \\\n0  2.16347e+08   5.30516e+08      1.8151e+07   1.62841e+08  4.92578e+07   \n1   1.6015e+08   3.32597e+08       1.404e+08   7.28645e+07  2.89623e+07   \n2  1.62198e+08   5.53676e+08     1.46311e+08   7.91259e+07  3.18127e+07   \n3  6.24723e+07   3.43982e+08     6.65048e+07   3.71999e+07  1.48376e+07   \n4  2.45686e+08   1.29348e+09     1.23859e+08   1.55041e+08   2.8516e+07   \n\n  Science & Technology  Movies        Shows Trailers  \n0          8.25326e+07       0  1.08264e+06        0  \n1           2.5579e+07  567324  2.49173e+06      194  \n2          4.56781e+07  176819   4.6662e+06        0  \n3           1.6164e+07   10299  2.00053e+06      614  \n4          4.03637e+07       0  2.11985e+06        0  \n"
     ]
    }
   ],
   "source": [
    "dfNewDf= dfNewDf.T[dfNewDf.any()].T\n",
    "print(dfNewDf)\n",
    "dfNewDf.to_csv('bakalim.csv')"
   ]
  },
  {
   "cell_type": "code",
   "execution_count": 38,
   "metadata": {},
   "outputs": [
    {
     "name": "stdout",
     "output_type": "stream",
     "text": [
      "0    0.0\n1    0.0\n2    0.0\n3    0.0\n4    0.0\nName: Total, dtype: float64\n"
     ]
    }
   ],
   "source": [
    "dfNewDf['Total'] = dfNewDf.sum(axis=1)\n",
    "print(dfNewDf['Total'])"
   ]
  },
  {
   "cell_type": "code",
   "execution_count": 41,
   "metadata": {
    "collapsed": true
   },
   "outputs": [
    {
     "data": {
      "text/html": [
       "<iframe id=\"igraph\" scrolling=\"no\" style=\"border:none;\" seamless=\"seamless\" src=\"https://plot.ly/~atacankorkmaz3/2.embed\" height=\"525px\" width=\"100%\"></iframe>"
      ],
      "text/plain": [
       "<iframe id=\"igraph\" scrolling=\"no\" style=\"border:none;\" seamless=\"seamless\" src=\"https://plot.ly/~atacankorkmaz3/2.embed\" height=\"525px\" width=\"100%\"></iframe>"
      ]
     },
     "execution_count": 41,
     "metadata": {},
     "output_type": "execute_result"
    }
   ],
   "source": [
    "for col in dfNewDf.columns:\n",
    "    dfNewDf[col] = dfNewDf[col].astype(str)\n",
    "    \n",
    "scl = [[0.0, 'rgb(242,240,247)'],[0.2, 'rgb(218,218,235)'],[0.4, 'rgb(188,189,220)'],\\\n",
    "            [0.6, 'rgb(158,154,200)'],[0.8, 'rgb(117,107,177)'],[1.0, 'rgb(84,39,143)']]\n",
    "\n",
    "dfNewDf['text'] = dfNewDf['country']+'<br>'+'Film & Animation' + dfNewDf['Film & Animation'] +'<br>'+ 'Autos & Vehicles' + dfNewDf['Autos & Vehicles'] +'<br>'+\\\n",
    "    'Music' + dfNewDf['Music'] +'<br>'+ 'Pets & Animals'+ dfNewDf['Pets & Animals'] +'<br>'+ 'Sports'+ dfNewDf['Sports']+'<br>'+ 'Travel & Events' +dfNewDf['Travel & Events']+'<br>'+\\\n",
    "    'Gaming' + dfNewDf['Gaming']+'<br>'+ 'People & Blogs' + dfNewDf['People & Blogs']+'<br>'+'Comedy'+ dfNewDf['Comedy']+'<br>'+ 'Entertainment'+ dfNewDf['Entertainment']+'<br>'+\\\n",
    "   'News & Politics'+ dfNewDf['News & Politics'] +'<br>'+ 'Howto & Style' + dfNewDf['Howto & Style']+'<br>'+ 'Education'+ dfNewDf['Education'] + '<br>'+ 'Science & Technology' +\\\n",
    "dfNewDf['Science & Technology'] +'<br>'+ 'Movies' + dfNewDf['Movies'] + '<br>'+ 'Shows'+ dfNewDf['Shows'] +'<br>'+ 'Trailers' + dfNewDf['Trailers']\n",
    "\n",
    "\n",
    "data = [ dict(\n",
    "        type = 'choropleth',\n",
    "        locations = dfNewDf['code'],\n",
    "        z = dfNewDf['Music'],\n",
    "        text = dfNewDf['text'],\n",
    "        colorscale = [[0,\"rgb(5, 10, 172)\"],[0.35,\"rgb(40, 60, 190)\"],[0.5,\"rgb(70, 100, 245)\"],\\\n",
    "            [0.6,\"rgb(90, 120, 245)\"],[0.7,\"rgb(106, 137, 247)\"],[1,\"rgb(220, 220, 220)\"]],\n",
    "        autocolorscale = False,\n",
    "        reversescale = True,\n",
    "        marker = dict(\n",
    "            line = dict (\n",
    "                color = 'rgb(255,255,255)',\n",
    "                width = 0.5\n",
    "            ) ),\n",
    "        colorbar = dict(\n",
    "            \n",
    "            title = 'Youtube Stats'),\n",
    "      ) ]\n",
    "\n",
    "layout = dict(\n",
    "    title = 'Youtube Stats',\n",
    "    geo = dict(\n",
    "        showframe = False,\n",
    "        showcoastlines = True,\n",
    "        projection = dict(\n",
    "            type = 'Mercator'\n",
    "        )\n",
    "    )\n",
    ")\n",
    "\n",
    "fig = dict( data=data, layout=layout )\n",
    "pelit.iplot( fig, validate=False, filename='d3-world-map' )"
   ]
  }
 ],
 "metadata": {},
 "nbformat": 4,
 "nbformat_minor": 0
}
