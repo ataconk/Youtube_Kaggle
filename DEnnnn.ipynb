{
 "cells": [
  {
   "cell_type": "code",
   "execution_count": 111,
   "metadata": {},
   "outputs": [],
   "source": [
    "import pandas as pd\n",
    "import json\n",
    "from pandas.io.json import json_normalize\n",
    "import xml.etree.ElementTree as ET\n",
    "from docOps import file_reader as fr\n",
    "\n",
    "# dh = documentHandler()\n",
    "# ax = dh.get_json('data\\\\DE_category_id.json')\n",
    "# axx = dh.json_to_df('items', 'data\\\\DE_category_id.json')\n",
    "# axxx = dh.xml_reader('C:\\\\workspace\\\\config.xml')\n",
    "\n",
    "# axxx.show(limit=10)\n"
   ]
  },
  {
   "cell_type": "code",
   "execution_count": 116,
   "metadata": {},
   "outputs": [],
   "source": [
    "reader = fr.documentHandler()\n",
    "DEvideos = reader.get_csv('data\\\\DEvideos.csv')\n",
    "USvideos = reader.get_csv('data\\\\USvideoz.csv')\n",
    "FRvideos = reader.get_csv('data\\\\FRvideos.csv')\n",
    "GBvideos = reader.get_csv('data\\\\GBvideos.csv')\n",
    "CAvideos = reader.get_csv('data\\\\CAvideos.csv')\n",
    "\n",
    "DE_data = reader.get_json('data\\\\DE_category_id.json')\n",
    "US_data = reader.get_json('data\\\\US_category_id.json')\n",
    "FR_data = reader.get_json('data\\\\FR_category_id.json')\n",
    "GB_data = reader.get_json('data\\\\GB_category_id.json')\n",
    "CA_data = reader.get_json('data\\\\CA_category_id.json')\n",
    "\n",
    "liste = ['DE', 'FR','US','GB','CA']\n",
    "\n"
   ]
  },
  {
   "cell_type": "code",
   "execution_count": 117,
   "metadata": {},
   "outputs": [],
   "source": [
    "mydict = {}\n",
    "listID = []\n",
    "listType = []\n",
    "for x in range(len(DE_data['items'])):\n",
    "\n",
    "    for item in DE_data['items'][x]['id'].splitlines():\n",
    "        listID.append(item)\n",
    "    for item in DE_data['items'][x]['snippet']['title'].splitlines():\n",
    "        listType.append(item)\n",
    "mydict = dict(zip(listID,listType))\n"
   ]
  },
  {
   "cell_type": "code",
   "execution_count": 118,
   "metadata": {},
   "outputs": [],
   "source": [
    "def new_col_add(liste,dosya):\n",
    "    for x in range(len(dosya['category_id'])):\n",
    "\n",
    "        for key in mydict:\n",
    "            if dosya['category_id'][x] == int(key):\n",
    "    \n",
    "                liste.append(mydict[key])"
   ]
  },
  {
   "cell_type": "code",
   "execution_count": 119,
   "metadata": {},
   "outputs": [],
   "source": [
    "newColDE = []\n",
    "newColUS = []\n",
    "newColFR = []\n",
    "newColGB = []\n",
    "newColCA = []\n",
    "new_col_add(newColDE,DEvideos)\n",
    "new_col_add(newColGB,GBvideos)\n",
    "new_col_add(newColFR,FRvideos)\n",
    "new_col_add(newColUS,USvideos)\n",
    "new_col_add(newColCA,CAvideos)"
   ]
  },
  {
   "cell_type": "code",
   "execution_count": 120,
   "metadata": {},
   "outputs": [],
   "source": [
    "GBvideos['video_types'] = pd.Series(newColGB)\n",
    "USvideos['video_types'] = pd.Series(newColUS)\n",
    "FRvideos['video_types'] = pd.Series(newColFR)\n",
    "DEvideos['video_types'] = pd.Series(newColDE)\n",
    "CAvideos['video_types'] = pd.Series(newColCA)\n"
   ]
  },
  {
   "cell_type": "code",
   "execution_count": 149,
   "metadata": {},
   "outputs": [],
   "source": [
    "listZero = []\n",
    "for x in listType:\n",
    "    listZero.append(0)\n",
    "likesUS = {}\n",
    "likesCA = {}\n",
    "likesFR = {}\n",
    "likesGB = {}\n",
    "likesDE = {}\n",
    "dislikesUS = {}\n",
    "dislikesCA = {}\n",
    "dislikesFR = {}\n",
    "dislikesGB = {}\n",
    "dislikesDE = {}\n",
    "viewsUS = {}\n",
    "viewsCA = {}\n",
    "viewsFR = {}\n",
    "viewsGB = {}\n",
    "viewsDE = {}\n",
    "\n",
    "likesUS= dict(zip(listType,listZero))\n",
    "likesCA = dict(zip(listType,listZero))\n",
    "likesFR = dict(zip(listType,listZero))\n",
    "likesGB = dict(zip(listType,listZero))\n",
    "likesDE = dict(zip(listType,listZero))\n",
    "dislikesUS = dict(zip(listType,listZero))\n",
    "dislikesCA = dict(zip(listType,listZero))\n",
    "dislikesFR = dict(zip(listType,listZero))\n",
    "dislikesGB = dict(zip(listType,listZero))\n",
    "dislikesDE = dict(zip(listType,listZero))\n",
    "viewsUS = dict(zip(listType,listZero))\n",
    "viewsCA = dict(zip(listType,listZero))\n",
    "viewsFR = dict(zip(listType,listZero))\n",
    "viewsGB = dict(zip(listType,listZero))\n",
    "viewsDE = dict(zip(listType,listZero))\n"
   ]
  },
  {
   "cell_type": "code",
   "execution_count": 124,
   "metadata": {},
   "outputs": [],
   "source": [
    "def counter(dosya, like, dislike, view):\n",
    "    for x in range(len(dosya['video_types'])):\n",
    "        for y in like:\n",
    "            if dosya['video_types'][x] == y:\n",
    "                like[dosya['video_types'][x]] = dosya['likes'][x] + like[y]\n",
    "\n",
    "    for x in range(len(dosya['video_types'])):\n",
    "        for y in dislike:\n",
    "            if dosya['video_types'][x] == y:\n",
    "                dislike[dosya['video_types'][x]] = dosya['dislikes'][x] + dislike[y]\n",
    "\n",
    "    for x in range(len(dosya['video_types'])):\n",
    "        for y in view:\n",
    "            if dosya['video_types'][x] == y:\n",
    "                view[dosya['video_types'][x]] = dosya['views'][x] + view[y]"
   ]
  },
  {
   "cell_type": "code",
   "execution_count": 150,
   "metadata": {},
   "outputs": [],
   "source": [
    "counter(USvideos,likesUS,dislikesUS,viewsUS)\n",
    "counter(FRvideos,likesFR,dislikesFR,viewsFR)\n",
    "counter(GBvideos,likesGB,dislikesGB,viewsGB)\n",
    "counter(DEvideos,likesDE,dislikesDE,viewsDE)\n",
    "counter(CAvideos,likesCA,dislikesCA,viewsCA)"
   ]
  },
  {
   "cell_type": "code",
   "execution_count": 151,
   "metadata": {},
   "outputs": [],
   "source": [
    "dataUS= []\n",
    "dataCA = []\n",
    "dataDE= []\n",
    "dataFR = []\n",
    "dataGB = []\n",
    "\n",
    "for x in likesUS:\n",
    "    dataUS.append([x,int(likesUS[x]), int(dislikesUS[x]), int(viewsUS[x])])\n",
    "\n",
    "for x in likesCA:\n",
    "    dataCA.append([x,int(likesCA[x]), int(dislikesCA[x]), int(viewsCA[x])])\n",
    "\n",
    "for x in likesFR:\n",
    "    dataFR.append([x,int(likesFR[x]), int(dislikesFR[x]), int(viewsFR[x])])\n",
    "\n",
    "for x in likesGB:\n",
    "    dataGB.append([x,int(likesGB[x]), int(dislikesGB[x]), int(viewsGB[x])])\n",
    "\n",
    "for x in likesDE:\n",
    "    dataDE.append([x,int(likesDE[x]), int(dislikesDE[x]), int(viewsDE[x])])\n",
    "  "
   ]
  },
  {
   "cell_type": "code",
   "execution_count": 152,
   "metadata": {},
   "outputs": [],
   "source": [
    "dfDE = pd.DataFrame(dataDE, columns=['Type','Likes','Dislikes','Views'])\n",
    "dfDE = dfDE[dfDE.Likes != 0]\n",
    "\n",
    "dfGB = pd.DataFrame(dataGB, columns=['Type','Likes','Dislikes','Views'])\n",
    "dfGB = dfGB[dfGB.Likes != 0]\n",
    "\n",
    "dfFR = pd.DataFrame(dataFR, columns=['Type','Likes','Dislikes','Views'])\n",
    "dfFR = dfFR[dfFR.Likes != 0]\n",
    "\n",
    "dfCA = pd.DataFrame(dataCA, columns=['Type','Likes','Dislikes','Views'])\n",
    "dfCA = dfCA[dfCA.Likes != 0]\n",
    "\n",
    "dfUS = pd.DataFrame(dataUS, columns=['Type','Likes','Dislikes','Views'])\n",
    "dfUS = dfUS[dfUS.Likes != 0]"
   ]
  },
  {
   "cell_type": "code",
   "execution_count": 154,
   "metadata": {},
   "outputs": [],
   "source": [
    "usaList=[]\n",
    "gbList=[]\n",
    "frList=[]\n",
    "caList=[]\n",
    "deList=[]\n",
    "\n",
    "\n",
    "usaList.append('USA')\n",
    "usaList.append('United States')\n",
    "for key in likesUS:\n",
    "    usaList.append(likesUS[key])\n",
    "    \n",
    "\n",
    "gbList.append('GBR')\n",
    "gbList.append('United Kingdom')\n",
    "for key in likesGB:\n",
    "    gbList.append(likesGB[key])\n",
    "    \n",
    "\n",
    "frList.append('FRA')\n",
    "frList.append('France')\n",
    "for key in likesFR:\n",
    "    frList.append(likesFR[key])\n",
    "\n",
    "\n",
    "caList.append('CAN')\n",
    "caList.append('Canada')\n",
    "for key in likesCA:\n",
    "    caList.append(likesCA[key])    \n",
    "\n",
    "deList.append('DEU')\n",
    "deList.append('Germany')\n",
    "for key in likesDE:\n",
    "    deList.append(likesDE[key])    "
   ]
  },
  {
   "cell_type": "code",
   "execution_count": 155,
   "metadata": {},
   "outputs": [],
   "source": [
    "newList = []\n",
    "newList.append('code')\n",
    "newList.append('country')\n",
    "for key in likesUS:\n",
    "    newList.append(key)\n",
    "dfNewDf = pd.DataFrame(columns=[newList])\n",
    "\n",
    "\n",
    "\n",
    "\n",
    "\n",
    "# dfNewDf = pd.DataFrame([frList])\n",
    "# dfNewDf = pd.DataFrame([caList])\n",
    "# dfNewDf = pd.DataFrame([deList])"
   ]
  },
  {
   "cell_type": "code",
   "execution_count": 156,
   "metadata": {},
   "outputs": [],
   "source": [
    "mpl =[usaList,frList,caList,deList,gbList]\n",
    "dfNewDf = pd.DataFrame(data=mpl, columns=newList)"
   ]
  },
  {
   "cell_type": "code",
   "execution_count": 157,
   "metadata": {},
   "outputs": [],
   "source": [
    "dfNewDf= dfNewDf.T[dfNewDf.any()].T"
   ]
  },
  {
   "cell_type": "code",
   "execution_count": 110,
   "metadata": {},
   "outputs": [
    {
     "ename": "TypeError",
     "evalue": "cannot convert the series to <class 'int'>",
     "traceback": [
      "\u001b[1;31m---------------------------------------------------------------------------\u001b[0m",
      "\u001b[1;31mTypeError\u001b[0m                                 Traceback (most recent call last)",
      "\u001b[1;32m<ipython-input-110-b35984f8c3f0>\u001b[0m in \u001b[0;36m<module>\u001b[1;34m()\u001b[0m\n\u001b[0;32m      1\u001b[0m \u001b[0mdfNewDf\u001b[0m\u001b[1;33m[\u001b[0m\u001b[1;34m'Total'\u001b[0m\u001b[1;33m]\u001b[0m \u001b[1;33m=\u001b[0m \u001b[0mdfNewDf\u001b[0m\u001b[1;33m.\u001b[0m\u001b[0msum\u001b[0m\u001b[1;33m(\u001b[0m\u001b[0maxis\u001b[0m\u001b[1;33m=\u001b[0m\u001b[1;36m1\u001b[0m\u001b[1;33m)\u001b[0m\u001b[1;33m\u001b[0m\u001b[0m\n\u001b[1;32m----> 2\u001b[1;33m \u001b[0mprint\u001b[0m\u001b[1;33m(\u001b[0m\u001b[0mint\u001b[0m\u001b[1;33m(\u001b[0m\u001b[0mdfNewDf\u001b[0m\u001b[1;33m[\u001b[0m\u001b[1;34m'Total'\u001b[0m\u001b[1;33m]\u001b[0m\u001b[1;33m)\u001b[0m\u001b[1;33m)\u001b[0m\u001b[1;33m\u001b[0m\u001b[0m\n\u001b[0m",
      "\u001b[1;32m~\\AppData\\Local\\conda\\conda\\envs\\env1\\lib\\site-packages\\pandas\\core\\series.py\u001b[0m in \u001b[0;36mwrapper\u001b[1;34m(self)\u001b[0m\n\u001b[0;32m    116\u001b[0m             \u001b[1;32mreturn\u001b[0m \u001b[0mconverter\u001b[0m\u001b[1;33m(\u001b[0m\u001b[0mself\u001b[0m\u001b[1;33m.\u001b[0m\u001b[0miloc\u001b[0m\u001b[1;33m[\u001b[0m\u001b[1;36m0\u001b[0m\u001b[1;33m]\u001b[0m\u001b[1;33m)\u001b[0m\u001b[1;33m\u001b[0m\u001b[0m\n\u001b[0;32m    117\u001b[0m         raise TypeError(\"cannot convert the series to \"\n\u001b[1;32m--> 118\u001b[1;33m                         \"{0}\".format(str(converter)))\n\u001b[0m\u001b[0;32m    119\u001b[0m \u001b[1;33m\u001b[0m\u001b[0m\n\u001b[0;32m    120\u001b[0m     \u001b[1;32mreturn\u001b[0m \u001b[0mwrapper\u001b[0m\u001b[1;33m\u001b[0m\u001b[0m\n",
      "\u001b[1;31mTypeError\u001b[0m: cannot convert the series to <class 'int'>"
     ],
     "output_type": "error"
    }
   ],
   "source": [
    "dfNewDf['Total'] = dfNewDf.sum(axis=1)"
   ]
  },
  {
   "cell_type": "code",
   "execution_count": 158,
   "metadata": {},
   "outputs": [
    {
     "data": {
      "text/html": [
       "<iframe id=\"igraph\" scrolling=\"no\" style=\"border:none;\" seamless=\"seamless\" src=\"https://plot.ly/~atacankorkmaz3/2.embed\" height=\"525px\" width=\"100%\"></iframe>"
      ],
      "text/plain": [
       "<iframe id=\"igraph\" scrolling=\"no\" style=\"border:none;\" seamless=\"seamless\" src=\"https://plot.ly/~atacankorkmaz3/2.embed\" height=\"525px\" width=\"100%\"></iframe>"
      ]
     },
     "execution_count": 158,
     "metadata": {},
     "output_type": "execute_result"
    }
   ],
   "source": [
    "for col in dfNewDf.columns:\n",
    "    dfNewDf[col] = dfNewDf[col].astype(str)\n",
    "    \n",
    "scl = [[0.0, 'rgb(242,240,247)'],[0.2, 'rgb(218,218,235)'],[0.4, 'rgb(188,189,220)'],\\\n",
    "            [0.6, 'rgb(158,154,200)'],[0.8, 'rgb(117,107,177)'],[1.0, 'rgb(84,39,143)']]\n",
    "\n",
    "dfNewDf['text'] = dfNewDf['country']+'<br>'+'Film & Animation' + dfNewDf['Film & Animation'] +'<br>'+ 'Autos & Vehicles' + dfNewDf['Autos & Vehicles'] +'<br>'+\\\n",
    "    'Music' + dfNewDf['Music'] +'<br>'+ 'Pets & Animals'+ dfNewDf['Pets & Animals'] +'<br>'+ 'Sports'+ dfNewDf['Sports']+'<br>'+ 'Travel & Events' +dfNewDf['Travel & Events']+'<br>'+\\\n",
    "    'Gaming' + dfNewDf['Gaming']+'<br>'+ 'People & Blogs' + dfNewDf['People & Blogs']+'<br>'+'Comedy'+ dfNewDf['Comedy']+'<br>'+ 'Entertainment'+ dfNewDf['Entertainment']+'<br>'+\\\n",
    "   'News & Politics'+ dfNewDf['News & Politics'] +'<br>'+ 'Howto & Style' + dfNewDf['Howto & Style']+'<br>'+ 'Education'+ dfNewDf['Education'] + '<br>'+ 'Science & Technology' +\\\n",
    "dfNewDf['Science & Technology'] +'<br>'+ 'Movies' + dfNewDf['Movies'] + '<br>'+ 'Shows'+ dfNewDf['Shows'] +'<br>'+ 'Trailers' + dfNewDf['Trailers']\n",
    "\n",
    "\n",
    "data = [ dict(\n",
    "        type = 'choropleth',\n",
    "        locations = dfNewDf['code'],\n",
    "        z = dfNewDf['Music'],\n",
    "        text = dfNewDf['text'],\n",
    "        colorscale = [[0,\"rgb(5, 10, 172)\"],[0.35,\"rgb(40, 60, 190)\"],[0.5,\"rgb(70, 100, 245)\"],\\\n",
    "            [0.6,\"rgb(90, 120, 245)\"],[0.7,\"rgb(106, 137, 247)\"],[1,\"rgb(220, 220, 220)\"]],\n",
    "        autocolorscale = False,\n",
    "        reversescale = True,\n",
    "        marker = dict(\n",
    "            line = dict (\n",
    "                color = 'rgb(255,255,255)',\n",
    "                width = 0.5\n",
    "            ) ),\n",
    "        colorbar = dict(\n",
    "            \n",
    "            title = 'Youtube Stats'),\n",
    "      ) ]\n",
    "\n",
    "layout = dict(\n",
    "    title = 'Youtube Stats',\n",
    "    geo = dict(\n",
    "        showframe = False,\n",
    "        showcoastlines = True,\n",
    "        projection = dict(\n",
    "            type = 'Mercator'\n",
    "        )\n",
    "    )\n",
    ")\n",
    "\n",
    "fig = dict( data=data, layout=layout )\n",
    "pelit.iplot( fig, validate=False, filename='d3-world-map' )"
   ]
  }
 ],
 "metadata": {},
 "nbformat": 4,
 "nbformat_minor": 0
}
