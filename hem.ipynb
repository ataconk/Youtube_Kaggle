{
 "cells": [
  {
   "cell_type": "code",
   "execution_count": 1,
   "metadata": {},
   "outputs": [],
   "source": [
    "import xml.etree.ElementTree as ET\n",
    "tree = ET.parse('C:\\\\workspace\\\\config.xml')\n",
    "root = tree.getroot()"
   ]
  },
  {
   "cell_type": "code",
   "execution_count": 7,
   "metadata": {},
   "outputs": [
    {
     "name": "stdout",
     "output_type": "stream",
     "text": [
      "name {}\ndescription {}\ninput_files {}\nparameters {}\n"
     ]
    }
   ],
   "source": [
    "for child in root:\n",
    "    print(child.tag,child.attrib)\n",
    "    \n",
    "    \n"
   ]
  },
  {
   "cell_type": "code",
   "execution_count": 9,
   "metadata": {},
   "outputs": [
    {
     "name": "stdout",
     "output_type": "stream",
     "text": [
      "end\nmytag text= sometext more text\n"
     ]
    }
   ],
   "source": [
    "parser = ET.XMLPullParser(['start', 'end'])\n",
    "parser.feed('<mytag>sometext')\n",
    "list(parser.read_events())\n",
    "\n",
    "\n",
    "parser.feed(' more text</mytag>')\n",
    "for event, elem in parser.read_events():\n",
    "   print(event)\n",
    "   print(elem.tag, 'text=', elem.text)"
   ]
  }
 ],
 "metadata": {},
 "nbformat": 4,
 "nbformat_minor": 0
}
